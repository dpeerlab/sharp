{
 "cells": [
  {
   "cell_type": "markdown",
   "metadata": {},
   "source": [
    "## Import Packages"
   ]
  },
  {
   "cell_type": "code",
   "execution_count": 1,
   "metadata": {
    "ExecuteTime": {
     "end_time": "2021-07-27T20:26:19.228806Z",
     "start_time": "2021-07-27T20:26:17.135631Z"
    }
   },
   "outputs": [],
   "source": [
    "import os\n",
    "import yaml\n",
    "\n",
    "import pandas as pd\n",
    "import numpy as np\n",
    "import scanpy as sc\n",
    "import scipy.io\n",
    "\n",
    "import matplotlib\n",
    "import matplotlib.pyplot as plt\n",
    "import seaborn as sns\n",
    "%matplotlib inline\n",
    "%config InlineBackend.figure_format = \"retina\""
   ]
  },
  {
   "cell_type": "code",
   "execution_count": 2,
   "metadata": {
    "ExecuteTime": {
     "end_time": "2021-07-27T20:26:19.234203Z",
     "start_time": "2021-07-27T20:26:19.230958Z"
    }
   },
   "outputs": [],
   "source": [
    "# verbosity: errors (0), warnings (1), info (2), hints (3)\n",
    "sc.settings.verbosity = 3\n",
    "sc.settings.set_figure_params(dpi=80, facecolor='white')"
   ]
  },
  {
   "cell_type": "markdown",
   "metadata": {},
   "source": [
    "## Parameters"
   ]
  },
  {
   "cell_type": "code",
   "execution_count": 3,
   "metadata": {
    "ExecuteTime": {
     "end_time": "2021-07-27T20:26:19.238618Z",
     "start_time": "2021-07-27T20:26:19.236048Z"
    },
    "tags": [
     "parameters"
    ]
   },
   "outputs": [],
   "source": [
    "# this cell is tagged `parameters` and will be overridden by papermill\n",
    "sample_name = \"1973_HD1915_7xNK_FB_HTO\"\n",
    "workflow_id = \"c3a941bf-62ed-469e-8ee6-d7448cdee457\"\n",
    "path_data = os.path.join(\"./hashtag/\", sample_name, workflow_id)"
   ]
  },
  {
   "cell_type": "markdown",
   "metadata": {},
   "source": [
    "## Load AnnData"
   ]
  },
  {
   "cell_type": "code",
   "execution_count": 4,
   "metadata": {
    "ExecuteTime": {
     "end_time": "2021-07-27T20:26:19.287506Z",
     "start_time": "2021-07-27T20:26:19.240965Z"
    }
   },
   "outputs": [],
   "source": [
    "adata = sc.read_h5ad(os.path.join(path_data, f\"{sample_name}.h5ad\"))"
   ]
  },
  {
   "cell_type": "code",
   "execution_count": 5,
   "metadata": {
    "ExecuteTime": {
     "end_time": "2021-07-27T20:26:19.295548Z",
     "start_time": "2021-07-27T20:26:19.289782Z"
    }
   },
   "outputs": [
    {
     "data": {
      "text/plain": [
       "AnnData object with n_obs × n_vars = 10957 × 7\n",
       "    obs: 'unmapped', 'barcode_sequence', 'hash_id'\n",
       "    var: 'feature_name'"
      ]
     },
     "execution_count": 5,
     "metadata": {},
     "output_type": "execute_result"
    }
   ],
   "source": [
    "adata"
   ]
  },
  {
   "cell_type": "code",
   "execution_count": 6,
   "metadata": {
    "ExecuteTime": {
     "end_time": "2021-07-27T20:26:19.312409Z",
     "start_time": "2021-07-27T20:26:19.296954Z"
    }
   },
   "outputs": [
    {
     "data": {
      "text/html": [
       "<div>\n",
       "<style scoped>\n",
       "    .dataframe tbody tr th:only-of-type {\n",
       "        vertical-align: middle;\n",
       "    }\n",
       "\n",
       "    .dataframe tbody tr th {\n",
       "        vertical-align: top;\n",
       "    }\n",
       "\n",
       "    .dataframe thead th {\n",
       "        text-align: right;\n",
       "    }\n",
       "</style>\n",
       "<table border=\"1\" class=\"dataframe\">\n",
       "  <thead>\n",
       "    <tr style=\"text-align: right;\">\n",
       "      <th></th>\n",
       "      <th>unmapped</th>\n",
       "      <th>barcode_sequence</th>\n",
       "      <th>hash_id</th>\n",
       "    </tr>\n",
       "  </thead>\n",
       "  <tbody>\n",
       "    <tr>\n",
       "      <th>227303201131438</th>\n",
       "      <td>27</td>\n",
       "      <td>CTGTGAACATCAGCGC</td>\n",
       "      <td>Doublet</td>\n",
       "    </tr>\n",
       "    <tr>\n",
       "      <th>191766864546027</th>\n",
       "      <td>16</td>\n",
       "      <td>GTACAACTCGCAATGT</td>\n",
       "      <td>A0252</td>\n",
       "    </tr>\n",
       "    <tr>\n",
       "      <th>227434332055453</th>\n",
       "      <td>7</td>\n",
       "      <td>CTGGACGCAAACTCTG</td>\n",
       "      <td>A0256</td>\n",
       "    </tr>\n",
       "    <tr>\n",
       "      <th>133921842280299</th>\n",
       "      <td>14</td>\n",
       "      <td>TCTACATTCGATTGGT</td>\n",
       "      <td>A0255</td>\n",
       "    </tr>\n",
       "    <tr>\n",
       "      <th>165239984667435</th>\n",
       "      <td>21</td>\n",
       "      <td>AGAAATGCAGGTGAGT</td>\n",
       "      <td>A0257</td>\n",
       "    </tr>\n",
       "    <tr>\n",
       "      <th>...</th>\n",
       "      <td>...</td>\n",
       "      <td>...</td>\n",
       "      <td>...</td>\n",
       "    </tr>\n",
       "    <tr>\n",
       "      <th>197281467784107</th>\n",
       "      <td>24</td>\n",
       "      <td>GACCCAGTCTGGGCGT</td>\n",
       "      <td>A0251</td>\n",
       "    </tr>\n",
       "    <tr>\n",
       "      <th>205861516597556</th>\n",
       "      <td>13</td>\n",
       "      <td>GCCTGTTCAATGAACA</td>\n",
       "      <td>A0251</td>\n",
       "    </tr>\n",
       "    <tr>\n",
       "      <th>196576840146219</th>\n",
       "      <td>30</td>\n",
       "      <td>GAGAAATAGCAGCAGT</td>\n",
       "      <td>Doublet</td>\n",
       "    </tr>\n",
       "    <tr>\n",
       "      <th>162072265964956</th>\n",
       "      <td>17</td>\n",
       "      <td>AACCTGATCGCTCCTA</td>\n",
       "      <td>A0257</td>\n",
       "    </tr>\n",
       "    <tr>\n",
       "      <th>122490813798755</th>\n",
       "      <td>9</td>\n",
       "      <td>TTCCTCTGTATGAGAT</td>\n",
       "      <td>A0251</td>\n",
       "    </tr>\n",
       "  </tbody>\n",
       "</table>\n",
       "<p>10957 rows × 3 columns</p>\n",
       "</div>"
      ],
      "text/plain": [
       "                 unmapped  barcode_sequence  hash_id\n",
       "227303201131438        27  CTGTGAACATCAGCGC  Doublet\n",
       "191766864546027        16  GTACAACTCGCAATGT    A0252\n",
       "227434332055453         7  CTGGACGCAAACTCTG    A0256\n",
       "133921842280299        14  TCTACATTCGATTGGT    A0255\n",
       "165239984667435        21  AGAAATGCAGGTGAGT    A0257\n",
       "...                   ...               ...      ...\n",
       "197281467784107        24  GACCCAGTCTGGGCGT    A0251\n",
       "205861516597556        13  GCCTGTTCAATGAACA    A0251\n",
       "196576840146219        30  GAGAAATAGCAGCAGT  Doublet\n",
       "162072265964956        17  AACCTGATCGCTCCTA    A0257\n",
       "122490813798755         9  TTCCTCTGTATGAGAT    A0251\n",
       "\n",
       "[10957 rows x 3 columns]"
      ]
     },
     "execution_count": 6,
     "metadata": {},
     "output_type": "execute_result"
    }
   ],
   "source": [
    "adata.obs"
   ]
  },
  {
   "cell_type": "code",
   "execution_count": 7,
   "metadata": {
    "ExecuteTime": {
     "end_time": "2021-07-27T20:26:19.321386Z",
     "start_time": "2021-07-27T20:26:19.314891Z"
    }
   },
   "outputs": [
    {
     "data": {
      "text/html": [
       "<div>\n",
       "<style scoped>\n",
       "    .dataframe tbody tr th:only-of-type {\n",
       "        vertical-align: middle;\n",
       "    }\n",
       "\n",
       "    .dataframe tbody tr th {\n",
       "        vertical-align: top;\n",
       "    }\n",
       "\n",
       "    .dataframe thead th {\n",
       "        text-align: right;\n",
       "    }\n",
       "</style>\n",
       "<table border=\"1\" class=\"dataframe\">\n",
       "  <thead>\n",
       "    <tr style=\"text-align: right;\">\n",
       "      <th></th>\n",
       "      <th>feature_name</th>\n",
       "    </tr>\n",
       "  </thead>\n",
       "  <tbody>\n",
       "    <tr>\n",
       "      <th>A0251-GTCAACTCTTTAGCG</th>\n",
       "      <td>CD56brightA+C-</td>\n",
       "    </tr>\n",
       "    <tr>\n",
       "      <th>A0252-TGATGGCCTATTGGG</th>\n",
       "      <td>CD56brightA+C+</td>\n",
       "    </tr>\n",
       "    <tr>\n",
       "      <th>A0253-TTCCGCCTCTCTTTG</th>\n",
       "      <td>CD56dimA+C+</td>\n",
       "    </tr>\n",
       "    <tr>\n",
       "      <th>A0254-AGTAAGTTCAGCGTA</th>\n",
       "      <td>CD56dimA+C-</td>\n",
       "    </tr>\n",
       "    <tr>\n",
       "      <th>A0255-AAGTATCGTTTCGCA</th>\n",
       "      <td>CD56dimA-C+NKp30hi</td>\n",
       "    </tr>\n",
       "    <tr>\n",
       "      <th>A0256-GGTTGCCAGATGTCA</th>\n",
       "      <td>CD56dimA-C+NKp30-</td>\n",
       "    </tr>\n",
       "    <tr>\n",
       "      <th>A0257-TGTCTTTCCTGCCAG</th>\n",
       "      <td>CD56dimA-C-</td>\n",
       "    </tr>\n",
       "  </tbody>\n",
       "</table>\n",
       "</div>"
      ],
      "text/plain": [
       "                             feature_name\n",
       "A0251-GTCAACTCTTTAGCG      CD56brightA+C-\n",
       "A0252-TGATGGCCTATTGGG      CD56brightA+C+\n",
       "A0253-TTCCGCCTCTCTTTG         CD56dimA+C+\n",
       "A0254-AGTAAGTTCAGCGTA         CD56dimA+C-\n",
       "A0255-AAGTATCGTTTCGCA  CD56dimA-C+NKp30hi\n",
       "A0256-GGTTGCCAGATGTCA   CD56dimA-C+NKp30-\n",
       "A0257-TGTCTTTCCTGCCAG         CD56dimA-C-"
      ]
     },
     "execution_count": 7,
     "metadata": {},
     "output_type": "execute_result"
    }
   ],
   "source": [
    "adata.var"
   ]
  },
  {
   "cell_type": "markdown",
   "metadata": {},
   "source": [
    "## Total UMIs"
   ]
  },
  {
   "cell_type": "code",
   "execution_count": 8,
   "metadata": {
    "ExecuteTime": {
     "end_time": "2021-07-27T20:26:19.328343Z",
     "start_time": "2021-07-27T20:26:19.323862Z"
    }
   },
   "outputs": [],
   "source": [
    "# total UMIs per cell barcode\n",
    "adata.obs[\"total_umis\"] = adata.X.sum(axis=1).A1"
   ]
  },
  {
   "cell_type": "code",
   "execution_count": 9,
   "metadata": {
    "ExecuteTime": {
     "end_time": "2021-07-27T20:26:19.344605Z",
     "start_time": "2021-07-27T20:26:19.330103Z"
    }
   },
   "outputs": [
    {
     "data": {
      "text/html": [
       "<div>\n",
       "<style scoped>\n",
       "    .dataframe tbody tr th:only-of-type {\n",
       "        vertical-align: middle;\n",
       "    }\n",
       "\n",
       "    .dataframe tbody tr th {\n",
       "        vertical-align: top;\n",
       "    }\n",
       "\n",
       "    .dataframe thead th {\n",
       "        text-align: right;\n",
       "    }\n",
       "</style>\n",
       "<table border=\"1\" class=\"dataframe\">\n",
       "  <thead>\n",
       "    <tr style=\"text-align: right;\">\n",
       "      <th></th>\n",
       "      <th>unmapped</th>\n",
       "      <th>barcode_sequence</th>\n",
       "      <th>hash_id</th>\n",
       "      <th>total_umis</th>\n",
       "    </tr>\n",
       "  </thead>\n",
       "  <tbody>\n",
       "    <tr>\n",
       "      <th>227303201131438</th>\n",
       "      <td>27</td>\n",
       "      <td>CTGTGAACATCAGCGC</td>\n",
       "      <td>Doublet</td>\n",
       "      <td>749</td>\n",
       "    </tr>\n",
       "    <tr>\n",
       "      <th>191766864546027</th>\n",
       "      <td>16</td>\n",
       "      <td>GTACAACTCGCAATGT</td>\n",
       "      <td>A0252</td>\n",
       "      <td>539</td>\n",
       "    </tr>\n",
       "    <tr>\n",
       "      <th>227434332055453</th>\n",
       "      <td>7</td>\n",
       "      <td>CTGGACGCAAACTCTG</td>\n",
       "      <td>A0256</td>\n",
       "      <td>237</td>\n",
       "    </tr>\n",
       "    <tr>\n",
       "      <th>133921842280299</th>\n",
       "      <td>14</td>\n",
       "      <td>TCTACATTCGATTGGT</td>\n",
       "      <td>A0255</td>\n",
       "      <td>492</td>\n",
       "    </tr>\n",
       "    <tr>\n",
       "      <th>165239984667435</th>\n",
       "      <td>21</td>\n",
       "      <td>AGAAATGCAGGTGAGT</td>\n",
       "      <td>A0257</td>\n",
       "      <td>615</td>\n",
       "    </tr>\n",
       "    <tr>\n",
       "      <th>...</th>\n",
       "      <td>...</td>\n",
       "      <td>...</td>\n",
       "      <td>...</td>\n",
       "      <td>...</td>\n",
       "    </tr>\n",
       "    <tr>\n",
       "      <th>197281467784107</th>\n",
       "      <td>24</td>\n",
       "      <td>GACCCAGTCTGGGCGT</td>\n",
       "      <td>A0251</td>\n",
       "      <td>433</td>\n",
       "    </tr>\n",
       "    <tr>\n",
       "      <th>205861516597556</th>\n",
       "      <td>13</td>\n",
       "      <td>GCCTGTTCAATGAACA</td>\n",
       "      <td>A0251</td>\n",
       "      <td>334</td>\n",
       "    </tr>\n",
       "    <tr>\n",
       "      <th>196576840146219</th>\n",
       "      <td>30</td>\n",
       "      <td>GAGAAATAGCAGCAGT</td>\n",
       "      <td>Doublet</td>\n",
       "      <td>627</td>\n",
       "    </tr>\n",
       "    <tr>\n",
       "      <th>162072265964956</th>\n",
       "      <td>17</td>\n",
       "      <td>AACCTGATCGCTCCTA</td>\n",
       "      <td>A0257</td>\n",
       "      <td>477</td>\n",
       "    </tr>\n",
       "    <tr>\n",
       "      <th>122490813798755</th>\n",
       "      <td>9</td>\n",
       "      <td>TTCCTCTGTATGAGAT</td>\n",
       "      <td>A0251</td>\n",
       "      <td>266</td>\n",
       "    </tr>\n",
       "  </tbody>\n",
       "</table>\n",
       "<p>10957 rows × 4 columns</p>\n",
       "</div>"
      ],
      "text/plain": [
       "                 unmapped  barcode_sequence  hash_id  total_umis\n",
       "227303201131438        27  CTGTGAACATCAGCGC  Doublet         749\n",
       "191766864546027        16  GTACAACTCGCAATGT    A0252         539\n",
       "227434332055453         7  CTGGACGCAAACTCTG    A0256         237\n",
       "133921842280299        14  TCTACATTCGATTGGT    A0255         492\n",
       "165239984667435        21  AGAAATGCAGGTGAGT    A0257         615\n",
       "...                   ...               ...      ...         ...\n",
       "197281467784107        24  GACCCAGTCTGGGCGT    A0251         433\n",
       "205861516597556        13  GCCTGTTCAATGAACA    A0251         334\n",
       "196576840146219        30  GAGAAATAGCAGCAGT  Doublet         627\n",
       "162072265964956        17  AACCTGATCGCTCCTA    A0257         477\n",
       "122490813798755         9  TTCCTCTGTATGAGAT    A0251         266\n",
       "\n",
       "[10957 rows x 4 columns]"
      ]
     },
     "execution_count": 9,
     "metadata": {},
     "output_type": "execute_result"
    }
   ],
   "source": [
    "adata.obs"
   ]
  },
  {
   "cell_type": "code",
   "execution_count": 10,
   "metadata": {
    "ExecuteTime": {
     "end_time": "2021-07-27T20:26:19.355451Z",
     "start_time": "2021-07-27T20:26:19.346214Z"
    }
   },
   "outputs": [],
   "source": [
    "# sort by total umi in descending order\n",
    "adata_sorted = adata[adata.obs.sort_values(by=\"total_umis\", ascending=False).index]"
   ]
  },
  {
   "cell_type": "markdown",
   "metadata": {},
   "source": [
    "## Classifiy Negatives"
   ]
  },
  {
   "cell_type": "markdown",
   "metadata": {},
   "source": [
    "### Find Inflection Points"
   ]
  },
  {
   "cell_type": "code",
   "execution_count": 11,
   "metadata": {
    "ExecuteTime": {
     "end_time": "2021-07-27T20:26:19.363705Z",
     "start_time": "2021-07-27T20:26:19.356997Z"
    }
   },
   "outputs": [],
   "source": [
    "def find_inflection_points(umi_sum, window_size=10, window_size2=10):\n",
    "    \n",
    "    # skip the first ten points\n",
    "    umi_sum = umi_sum[10:]\n",
    "    \n",
    "    if window_size > 0:\n",
    "        ms2 = pd.Series(umi_sum).rolling(window_size).mean()\n",
    "    else:\n",
    "        ms2 = umi_sum\n",
    "\n",
    "    d1 = np.diff(ms2)\n",
    "\n",
    "    if window_size2 > 0:\n",
    "        ms3 = pd.Series(d1).rolling(window_size2).mean()\n",
    "        d2 = np.diff(ms3)\n",
    "    else:\n",
    "        d2 = np.diff(d1)\n",
    "\n",
    "    # throw out an extra 5% of cells from where the inflection point is found.\n",
    "    # these cells are empirically determined to have \"transition\" library sizes\n",
    "    # that confound downstream analysis\n",
    "\n",
    "    inflection_pts = np.where(d2 == 0)[0]\n",
    "\n",
    "    if len(inflection_pts) == 0:\n",
    "        # PLAN B\n",
    "        # no points has 2nd derivate=0\n",
    "        # remove nan, abs, and find the one that is most close to zero\n",
    "        # sort in asending order and pick the first ten\n",
    "        inflection_pts = np.argsort(d2[~np.isnan(d2)])[:10]\n",
    "        inflection_pts = np.sort(inflection_pts)\n",
    "\n",
    "    return inflection_pts, d1, d2, ms2"
   ]
  },
  {
   "cell_type": "code",
   "execution_count": 12,
   "metadata": {
    "ExecuteTime": {
     "end_time": "2021-07-27T20:26:19.466679Z",
     "start_time": "2021-07-27T20:26:19.365362Z"
    }
   },
   "outputs": [],
   "source": [
    "from sklearn.preprocessing import PolynomialFeatures\n",
    "from sklearn.linear_model import LinearRegression\n",
    "from sklearn import metrics\n",
    "\n",
    "def fit_linear(x, y):\n",
    "    model = LinearRegression()\n",
    "    model.fit(x.reshape(-1, 1), y)\n",
    "    y_pred = model.predict(x.reshape(-1, 1))\n",
    "    \n",
    "    return y_pred, model.coef_[0], model.intercept_\n",
    "\n",
    "def fit_polynomial(x, y):\n",
    "    polynomial_features= PolynomialFeatures(degree=3)\n",
    "    X = polynomial_features.fit_transform(x.reshape(-1,1))    \n",
    "    \n",
    "    model = LinearRegression()\n",
    "    model.fit(X, y)\n",
    "    \n",
    "    y_pred = model.predict(X)\n",
    "    \n",
    "    return y_pred, model.coef_, model.intercept_"
   ]
  },
  {
   "cell_type": "code",
   "execution_count": 13,
   "metadata": {
    "ExecuteTime": {
     "end_time": "2021-07-27T20:26:19.767288Z",
     "start_time": "2021-07-27T20:26:19.468145Z"
    }
   },
   "outputs": [
    {
     "name": "stdout",
     "output_type": "stream",
     "text": [
      "7.471575000254708 0.03660011586833154 -0.0001663140180224092\n"
     ]
    },
    {
     "data": {
      "image/png": "[encoded data removed]",
      "text/plain": [
       "<Figure size 480x480 with 1 Axes>"
      ]
     },
     "metadata": {
      "image/png": {
       "height": 440,
       "width": 434
      }
     },
     "output_type": "display_data"
    }
   ],
   "source": [
    "fig, ax = plt.subplots(figsize=(6, 6), facecolor=\"white\")\n",
    "\n",
    "x = np.arange(0, adata_sorted.shape[0])\n",
    "ms = np.log(adata_sorted.obs[\"total_umis\"] + 1)\n",
    "inflection_pts, d1, d2, ms2 = find_inflection_points(ms, 50, 50)\n",
    "y_pred_poly, coeffs, intercept_poly = fit_polynomial(x, ms)\n",
    "mse_poly = metrics.mean_squared_error(ms, y_pred_poly)\n",
    "y_pred_linear, slope, intercept_linear = fit_linear(x, ms)\n",
    "\n",
    "print(intercept_poly, mse_poly, slope)\n",
    "\n",
    "if intercept_poly < 4:\n",
    "    inflection_pt = inflection_pts[0]\n",
    "elif intercept_poly < 5 and mse_poly >= 0.2:\n",
    "    inflection_pt = inflection_pts[0]\n",
    "else:\n",
    "    if slope < -0.003:\n",
    "        # fixme: we have no good inflection points\n",
    "        inflection_pt = int(adata_sorted.shape[0] * 0.95)\n",
    "    else:\n",
    "        # 95% point\n",
    "        inflection_pt = inflection_pts[int(len(inflection_pts)*0.99)]\n",
    "\n",
    "ax.plot(range(0, adata_sorted.shape[0]), ms)\n",
    "ax.vlines(\n",
    "    x=inflection_pt,\n",
    "    ymin=0,\n",
    "    ymax=np.log(adata_sorted.obs[\"total_umis\"].max()),\n",
    "    linestyle='--', label=\"cutoff\"\n",
    ")\n",
    "ax.set_ylabel(\"molecule sum (log)\")\n",
    "ax.set_xlabel(\"cell barcode\")\n",
    "ax.xaxis.set_major_formatter(matplotlib.ticker.EngFormatter())\n",
    "ax.set_title(sample_name)\n",
    "ax.legend()\n",
    "\n",
    "plt.show()"
   ]
  },
  {
   "cell_type": "markdown",
   "metadata": {},
   "source": [
    "### Polynomial Regression"
   ]
  },
  {
   "cell_type": "code",
   "execution_count": 14,
   "metadata": {
    "ExecuteTime": {
     "end_time": "2021-07-27T20:26:20.040960Z",
     "start_time": "2021-07-27T20:26:19.768882Z"
    }
   },
   "outputs": [
    {
     "data": {
      "image/png": "[encoded data removed]",
      "text/plain": [
       "<Figure size 480x480 with 1 Axes>"
      ]
     },
     "metadata": {
      "image/png": {
       "height": 459,
       "width": 461
      }
     },
     "output_type": "display_data"
    }
   ],
   "source": [
    "fig, ax = plt.subplots(figsize=(6, 6))\n",
    "\n",
    "mse = metrics.mean_squared_error(ms, y_pred_poly)\n",
    "mae = metrics.mean_absolute_error(ms, y_pred_poly)\n",
    "ax.plot(x, ms, label=\"original\")\n",
    "ax.plot(x, y_pred_poly, label=\"fitted\")\n",
    "ax.set_title(\n",
    "    \"Polynomial Regression\\n\"\n",
    "    \"MSE: {0:.2f} / MAE: {1:.2f}\\nCoeefs={2} / Intercept={3:.3f}\".format(\n",
    "        mse, mae, \", \".join([\"{0:.3f}\".format(x) for x in coeffs]), intercept_poly\n",
    "    )    \n",
    ")\n",
    "ax.set_ylabel(\"molecule sum (log)\")\n",
    "ax.set_xlabel(\"cell barcode\")\n",
    "ax.xaxis.set_major_formatter(matplotlib.ticker.EngFormatter())\n",
    "ax.legend()\n",
    "\n",
    "plt.tight_layout()\n",
    "plt.show()"
   ]
  },
  {
   "cell_type": "markdown",
   "metadata": {},
   "source": [
    "### Linear Regression"
   ]
  },
  {
   "cell_type": "code",
   "execution_count": 15,
   "metadata": {
    "ExecuteTime": {
     "end_time": "2021-07-27T20:26:20.381162Z",
     "start_time": "2021-07-27T20:26:20.041992Z"
    }
   },
   "outputs": [
    {
     "data": {
      "image/png": "[encoded data removed]",
      "text/plain": [
       "<Figure size 480x480 with 1 Axes>"
      ]
     },
     "metadata": {
      "image/png": {
       "height": 459,
       "width": 461
      }
     },
     "output_type": "display_data"
    }
   ],
   "source": [
    "fig, ax = plt.subplots(figsize=(6, 6))\n",
    "\n",
    "mse = metrics.mean_squared_error(ms, y_pred_linear)\n",
    "mae = metrics.mean_absolute_error(ms, y_pred_linear)\n",
    "ax.plot(x, ms, label=\"original\")\n",
    "ax.plot(x, y_pred_linear, label=\"fitted\")\n",
    "ax.set_title(\n",
    "    \"Linear Regression\\n\"\n",
    "    \"MSE: {0:.2f} / MAE: {1:.2f}\\nSlope={2:.5f} / Intercept={3:.3f}\".format(\n",
    "        mse, mae, slope, intercept_linear\n",
    "    )\n",
    ")\n",
    "ax.set_ylabel(\"molecule sum (log)\")\n",
    "ax.set_xlabel(\"cell barcode\")\n",
    "ax.xaxis.set_major_formatter(matplotlib.ticker.EngFormatter())\n",
    "ax.legend()\n",
    "\n",
    "plt.tight_layout()\n",
    "plt.show()"
   ]
  },
  {
   "cell_type": "markdown",
   "metadata": {},
   "source": [
    "### Inflection Point"
   ]
  },
  {
   "cell_type": "code",
   "execution_count": 16,
   "metadata": {
    "ExecuteTime": {
     "end_time": "2021-07-27T20:26:20.385868Z",
     "start_time": "2021-07-27T20:26:20.382691Z"
    }
   },
   "outputs": [
    {
     "data": {
      "text/plain": [
       "10846"
      ]
     },
     "execution_count": 16,
     "metadata": {},
     "output_type": "execute_result"
    }
   ],
   "source": [
    "inflection_pt"
   ]
  },
  {
   "cell_type": "code",
   "execution_count": 17,
   "metadata": {
    "ExecuteTime": {
     "end_time": "2021-07-27T20:26:20.391807Z",
     "start_time": "2021-07-27T20:26:20.387212Z"
    }
   },
   "outputs": [
    {
     "data": {
      "text/plain": [
       "array([10836, 10838, 10839, 10840, 10841, 10842, 10843, 10844, 10845,\n",
       "       10846])"
      ]
     },
     "execution_count": 17,
     "metadata": {},
     "output_type": "execute_result"
    }
   ],
   "source": [
    "inflection_pts"
   ]
  },
  {
   "cell_type": "markdown",
   "metadata": {},
   "source": [
    "## KMeans to 3 Clusters"
   ]
  },
  {
   "cell_type": "code",
   "execution_count": 18,
   "metadata": {
    "ExecuteTime": {
     "end_time": "2021-07-27T20:26:20.462534Z",
     "start_time": "2021-07-27T20:26:20.393677Z"
    }
   },
   "outputs": [],
   "source": [
    "from sklearn.cluster import KMeans"
   ]
  },
  {
   "cell_type": "markdown",
   "metadata": {},
   "source": [
    "### Find the Negative Cluster"
   ]
  },
  {
   "cell_type": "code",
   "execution_count": 19,
   "metadata": {
    "ExecuteTime": {
     "end_time": "2021-07-27T20:26:20.466425Z",
     "start_time": "2021-07-27T20:26:20.463964Z"
    }
   },
   "outputs": [],
   "source": [
    "# for those beyond the inflection point,\n",
    "# use KMeans to group them into 3 clusters\n",
    "kmeans = KMeans(n_clusters=3, random_state=316)"
   ]
  },
  {
   "cell_type": "code",
   "execution_count": 20,
   "metadata": {
    "ExecuteTime": {
     "end_time": "2021-07-27T20:26:20.474895Z",
     "start_time": "2021-07-27T20:26:20.468129Z"
    }
   },
   "outputs": [
    {
     "data": {
      "text/plain": [
       "204198527223660    130\n",
       "134945401334501    129\n",
       "227982983157685    129\n",
       "135132217753011    128\n",
       "134954930294108    127\n",
       "                  ... \n",
       "230677806501099      0\n",
       "125238491630507      0\n",
       "134513488743659      0\n",
       "239460343532779      0\n",
       "125238491662763      0\n",
       "Name: total_umis, Length: 111, dtype: int64"
      ]
     },
     "execution_count": 20,
     "metadata": {},
     "output_type": "execute_result"
    }
   ],
   "source": [
    "X = adata_sorted[inflection_pt:].obs[\"total_umis\"]\n",
    "X"
   ]
  },
  {
   "cell_type": "code",
   "execution_count": 21,
   "metadata": {
    "ExecuteTime": {
     "end_time": "2021-07-27T20:26:20.508334Z",
     "start_time": "2021-07-27T20:26:20.476345Z"
    }
   },
   "outputs": [],
   "source": [
    "y_predict = kmeans.fit_predict(X.values.reshape(-1, 1))"
   ]
  },
  {
   "cell_type": "code",
   "execution_count": 22,
   "metadata": {
    "ExecuteTime": {
     "end_time": "2021-07-27T20:26:20.517372Z",
     "start_time": "2021-07-27T20:26:20.513661Z"
    }
   },
   "outputs": [
    {
     "data": {
      "text/plain": [
       "array([2, 2, 2, 2, 2, 2, 2, 2, 2, 2, 2, 2, 2, 2, 2, 2, 2, 2, 2, 2, 2, 2,\n",
       "       2, 2, 2, 2, 2, 2, 2, 2, 2, 2, 2, 2, 2, 2, 2, 2, 2, 2, 2, 2, 2, 2,\n",
       "       2, 2, 2, 2, 2, 2, 2, 2, 2, 2, 2, 2, 2, 2, 2, 2, 2, 2, 0, 0, 0, 0,\n",
       "       0, 0, 0, 0, 0, 0, 0, 0, 0, 0, 0, 0, 0, 0, 0, 0, 0, 0, 0, 0, 0, 0,\n",
       "       0, 0, 0, 0, 0, 0, 0, 1, 1, 1, 1, 1, 1, 1, 1, 1, 1, 1, 1, 1, 1, 1,\n",
       "       1], dtype=int32)"
      ]
     },
     "execution_count": 22,
     "metadata": {},
     "output_type": "execute_result"
    }
   ],
   "source": [
    "y_predict"
   ]
  },
  {
   "cell_type": "code",
   "execution_count": 23,
   "metadata": {
    "ExecuteTime": {
     "end_time": "2021-07-27T20:26:20.749145Z",
     "start_time": "2021-07-27T20:26:20.519721Z"
    },
    "scrolled": false
   },
   "outputs": [
    {
     "data": {
      "image/png": "[encoded data removed]",
      "text/plain": [
       "<Figure size 480x480 with 1 Axes>"
      ]
     },
     "metadata": {
      "image/png": {
       "height": 461,
       "width": 462
      }
     },
     "output_type": "display_data"
    }
   ],
   "source": [
    "x = np.array(range(0, adata_sorted.shape[0]))\n",
    "ms = np.log(adata_sorted.obs[\"total_umis\"] + 1)\n",
    "\n",
    "fig, ax = plt.subplots(figsize=(6, 6))\n",
    "\n",
    "ax.plot(x[:inflection_pt], ms[:inflection_pt])\n",
    "ax.plot(x[inflection_pt:], ms[inflection_pt:])\n",
    "\n",
    "plt.tight_layout()\n",
    "plt.show()"
   ]
  },
  {
   "cell_type": "code",
   "execution_count": 24,
   "metadata": {
    "ExecuteTime": {
     "end_time": "2021-07-27T20:26:20.758233Z",
     "start_time": "2021-07-27T20:26:20.750553Z"
    }
   },
   "outputs": [
    {
     "data": {
      "text/plain": [
       "array([ 0,  0,  0,  0,  0,  0,  0,  0,  0,  0,  0,  0,  0,  0,  0,  0,  0,\n",
       "        0,  0,  0,  0,  0,  0,  0,  0,  0,  0,  0,  0,  0,  0,  0,  0,  0,\n",
       "        0,  0,  0,  0,  0,  0,  0,  0,  0,  0,  0,  0,  0,  0,  0,  0,  0,\n",
       "        0,  0,  0,  0,  0,  0,  0,  0,  0,  0, -2,  0,  0,  0,  0,  0,  0,\n",
       "        0,  0,  0,  0,  0,  0,  0,  0,  0,  0,  0,  0,  0,  0,  0,  0,  0,\n",
       "        0,  0,  0,  0,  0,  0,  0,  0,  0,  1,  0,  0,  0,  0,  0,  0,  0,\n",
       "        0,  0,  0,  0,  0,  0,  0,  0], dtype=int32)"
      ]
     },
     "execution_count": 24,
     "metadata": {},
     "output_type": "execute_result"
    }
   ],
   "source": [
    "np.diff(y_predict)"
   ]
  },
  {
   "cell_type": "code",
   "execution_count": 25,
   "metadata": {
    "ExecuteTime": {
     "end_time": "2021-07-27T20:26:20.766313Z",
     "start_time": "2021-07-27T20:26:20.761366Z"
    }
   },
   "outputs": [
    {
     "data": {
      "text/plain": [
       "array([62, 95])"
      ]
     },
     "execution_count": 25,
     "metadata": {},
     "output_type": "execute_result"
    }
   ],
   "source": [
    "# find break points (e.g. where 0s end and 1s begin)\n",
    "breaks = np.where(np.diff(y_predict))[0] + 1\n",
    "breaks"
   ]
  },
  {
   "cell_type": "code",
   "execution_count": 26,
   "metadata": {
    "ExecuteTime": {
     "end_time": "2021-07-27T20:26:20.776195Z",
     "start_time": "2021-07-27T20:26:20.767779Z"
    }
   },
   "outputs": [
    {
     "data": {
      "text/plain": [
       "[array([130, 129, 129, 128, 127, 127, 125, 123, 123, 121, 121, 120, 120,\n",
       "        120, 119, 119, 118, 117, 117, 117, 117, 116, 116, 115, 114, 113,\n",
       "        113, 110, 110, 109, 109, 109, 108, 108, 106, 106, 106, 105, 105,\n",
       "        104, 103, 103, 102, 101, 100, 100, 100, 100,  98,  98,  98,  97,\n",
       "         96,  96,  95,  95,  94,  93,  93,  93,  93,  91]),\n",
       " array([89, 88, 88, 87, 86, 85, 85, 84, 84, 81, 81, 80, 80, 76, 75, 73, 72,\n",
       "        70, 69, 69, 68, 65, 64, 61, 58, 58, 58, 55, 55, 54, 53, 47, 44]),\n",
       " array([36, 35, 21, 17, 11,  1,  1,  0,  0,  0,  0,  0,  0,  0,  0,  0])]"
      ]
     },
     "execution_count": 26,
     "metadata": {},
     "output_type": "execute_result"
    }
   ],
   "source": [
    "splits = np.split(adata_sorted[inflection_pt:].obs.total_umis.values, breaks)\n",
    "splits"
   ]
  },
  {
   "cell_type": "code",
   "execution_count": 27,
   "metadata": {
    "ExecuteTime": {
     "end_time": "2021-07-27T20:26:21.006795Z",
     "start_time": "2021-07-27T20:26:20.778485Z"
    }
   },
   "outputs": [
    {
     "data": {
      "image/png": "[encoded data removed]",
      "text/plain": [
       "<Figure size 480x480 with 1 Axes>"
      ]
     },
     "metadata": {
      "image/png": {
       "height": 422,
       "width": 443
      }
     },
     "output_type": "display_data"
    }
   ],
   "source": [
    "fig, ax = plt.subplots(figsize=(6,6))\n",
    "\n",
    "n = 0\n",
    "for cluster in range(len(splits)):\n",
    "    ax.plot(\n",
    "        np.arange(len(splits[cluster])) + (breaks[n - 1] if n > 0 else 0),\n",
    "        splits[cluster],\n",
    "        linewidth=3\n",
    "    )\n",
    "    n += 1\n",
    "\n",
    "ax.hlines(y=splits[-1][0], xmin=0, xmax=len(y_predict), linestyle=(0, (5,5)), linewidth=1)\n",
    "\n",
    "ax.set_ylabel(\"UMI\")\n",
    "ax.set_xlabel(\"Barcode\")\n",
    "    \n",
    "plt.show()"
   ]
  },
  {
   "cell_type": "code",
   "execution_count": 28,
   "metadata": {
    "ExecuteTime": {
     "end_time": "2021-07-27T20:26:21.012178Z",
     "start_time": "2021-07-27T20:26:21.008693Z"
    }
   },
   "outputs": [
    {
     "name": "stdout",
     "output_type": "stream",
     "text": [
      "95\n"
     ]
    }
   ],
   "source": [
    "# third cluster (if there's any cluster found)\n",
    "if len(breaks) > 0:\n",
    "    print(breaks[-1])"
   ]
  },
  {
   "cell_type": "code",
   "execution_count": 29,
   "metadata": {
    "ExecuteTime": {
     "end_time": "2021-07-27T20:26:21.018019Z",
     "start_time": "2021-07-27T20:26:21.013698Z"
    }
   },
   "outputs": [
    {
     "data": {
      "text/plain": [
       "10941"
      ]
     },
     "execution_count": 29,
     "metadata": {},
     "output_type": "execute_result"
    }
   ],
   "source": [
    "# for new inflectin point\n",
    "# choose the beginning of the last cluster (one with the least molecule counts) from the three clusters\n",
    "inflection_pt = inflection_pt + (breaks[-1] if len(breaks) > 0 else 0)\n",
    "inflection_pt"
   ]
  },
  {
   "cell_type": "code",
   "execution_count": 30,
   "metadata": {
    "ExecuteTime": {
     "end_time": "2021-07-27T20:26:21.031769Z",
     "start_time": "2021-07-27T20:26:21.019544Z"
    }
   },
   "outputs": [
    {
     "data": {
      "text/html": [
       "<div>\n",
       "<style scoped>\n",
       "    .dataframe tbody tr th:only-of-type {\n",
       "        vertical-align: middle;\n",
       "    }\n",
       "\n",
       "    .dataframe tbody tr th {\n",
       "        vertical-align: top;\n",
       "    }\n",
       "\n",
       "    .dataframe thead th {\n",
       "        text-align: right;\n",
       "    }\n",
       "</style>\n",
       "<table border=\"1\" class=\"dataframe\">\n",
       "  <thead>\n",
       "    <tr style=\"text-align: right;\">\n",
       "      <th></th>\n",
       "      <th>unmapped</th>\n",
       "      <th>barcode_sequence</th>\n",
       "      <th>hash_id</th>\n",
       "      <th>total_umis</th>\n",
       "    </tr>\n",
       "  </thead>\n",
       "  <tbody>\n",
       "    <tr>\n",
       "      <th>122436428123060</th>\n",
       "      <td>0</td>\n",
       "      <td>TTCGGTCTCTAAGCCA</td>\n",
       "      <td>A0253</td>\n",
       "      <td>36</td>\n",
       "    </tr>\n",
       "    <tr>\n",
       "      <th>226212233211229</th>\n",
       "      <td>0</td>\n",
       "      <td>CTTTCAATCTTCCGTG</td>\n",
       "      <td>A0255</td>\n",
       "      <td>35</td>\n",
       "    </tr>\n",
       "    <tr>\n",
       "      <th>204908283221805</th>\n",
       "      <td>3</td>\n",
       "      <td>GCAGCTGGTTGGTAGG</td>\n",
       "      <td>A0251</td>\n",
       "      <td>21</td>\n",
       "    </tr>\n",
       "    <tr>\n",
       "      <th>231282308437941</th>\n",
       "      <td>3</td>\n",
       "      <td>CAAGACTTCGAGTCCG</td>\n",
       "      <td>A0251</td>\n",
       "      <td>17</td>\n",
       "    </tr>\n",
       "    <tr>\n",
       "      <th>126682835925812</th>\n",
       "      <td>0</td>\n",
       "      <td>TACTTCAGTTCTGACA</td>\n",
       "      <td>A0255</td>\n",
       "      <td>11</td>\n",
       "    </tr>\n",
       "    <tr>\n",
       "      <th>122490786564902</th>\n",
       "      <td>0</td>\n",
       "      <td>TTCCTCTTCAAAGAAC</td>\n",
       "      <td>A0256</td>\n",
       "      <td>1</td>\n",
       "    </tr>\n",
       "    <tr>\n",
       "      <th>199807070756251</th>\n",
       "      <td>2</td>\n",
       "      <td>GGTTAACGTCTGCCTT</td>\n",
       "      <td>A0254</td>\n",
       "      <td>1</td>\n",
       "    </tr>\n",
       "    <tr>\n",
       "      <th>235214378491291</th>\n",
       "      <td>0</td>\n",
       "      <td>CGTCCATGTCTGCCTT</td>\n",
       "      <td>Doublet</td>\n",
       "      <td>0</td>\n",
       "    </tr>\n",
       "    <tr>\n",
       "      <th>125238492219116</th>\n",
       "      <td>0</td>\n",
       "      <td>TATCTGTTCGCATTGA</td>\n",
       "      <td>Doublet</td>\n",
       "      <td>0</td>\n",
       "    </tr>\n",
       "    <tr>\n",
       "      <th>125238491855662</th>\n",
       "      <td>0</td>\n",
       "      <td>TATCTGTTCATTGAGC</td>\n",
       "      <td>Doublet</td>\n",
       "      <td>0</td>\n",
       "    </tr>\n",
       "    <tr>\n",
       "      <th>239406522223851</th>\n",
       "      <td>3</td>\n",
       "      <td>CCTTCAGAGGGACTGT</td>\n",
       "      <td>Doublet</td>\n",
       "      <td>0</td>\n",
       "    </tr>\n",
       "    <tr>\n",
       "      <th>230677806501099</th>\n",
       "      <td>1</td>\n",
       "      <td>CATACTTAGGGACTGT</td>\n",
       "      <td>Doublet</td>\n",
       "      <td>0</td>\n",
       "    </tr>\n",
       "    <tr>\n",
       "      <th>125238491630507</th>\n",
       "      <td>0</td>\n",
       "      <td>TATCTGTTCTAAGCGT</td>\n",
       "      <td>Doublet</td>\n",
       "      <td>0</td>\n",
       "    </tr>\n",
       "    <tr>\n",
       "      <th>134513488743659</th>\n",
       "      <td>1</td>\n",
       "      <td>TCAGTTTAGGGACTGT</td>\n",
       "      <td>Doublet</td>\n",
       "      <td>0</td>\n",
       "    </tr>\n",
       "    <tr>\n",
       "      <th>239460343532779</th>\n",
       "      <td>1</td>\n",
       "      <td>CCTAACCAGGGACTGT</td>\n",
       "      <td>Doublet</td>\n",
       "      <td>0</td>\n",
       "    </tr>\n",
       "    <tr>\n",
       "      <th>125238491662763</th>\n",
       "      <td>0</td>\n",
       "      <td>TATCTGTTCTGAACGT</td>\n",
       "      <td>Doublet</td>\n",
       "      <td>0</td>\n",
       "    </tr>\n",
       "  </tbody>\n",
       "</table>\n",
       "</div>"
      ],
      "text/plain": [
       "                 unmapped  barcode_sequence  hash_id  total_umis\n",
       "122436428123060         0  TTCGGTCTCTAAGCCA    A0253          36\n",
       "226212233211229         0  CTTTCAATCTTCCGTG    A0255          35\n",
       "204908283221805         3  GCAGCTGGTTGGTAGG    A0251          21\n",
       "231282308437941         3  CAAGACTTCGAGTCCG    A0251          17\n",
       "126682835925812         0  TACTTCAGTTCTGACA    A0255          11\n",
       "122490786564902         0  TTCCTCTTCAAAGAAC    A0256           1\n",
       "199807070756251         2  GGTTAACGTCTGCCTT    A0254           1\n",
       "235214378491291         0  CGTCCATGTCTGCCTT  Doublet           0\n",
       "125238492219116         0  TATCTGTTCGCATTGA  Doublet           0\n",
       "125238491855662         0  TATCTGTTCATTGAGC  Doublet           0\n",
       "239406522223851         3  CCTTCAGAGGGACTGT  Doublet           0\n",
       "230677806501099         1  CATACTTAGGGACTGT  Doublet           0\n",
       "125238491630507         0  TATCTGTTCTAAGCGT  Doublet           0\n",
       "134513488743659         1  TCAGTTTAGGGACTGT  Doublet           0\n",
       "239460343532779         1  CCTAACCAGGGACTGT  Doublet           0\n",
       "125238491662763         0  TATCTGTTCTGAACGT  Doublet           0"
      ]
     },
     "execution_count": 30,
     "metadata": {},
     "output_type": "execute_result"
    }
   ],
   "source": [
    "# barcodes that belong to the chosen cluster\n",
    "adata_sorted[inflection_pt:].obs"
   ]
  },
  {
   "cell_type": "code",
   "execution_count": 31,
   "metadata": {
    "ExecuteTime": {
     "end_time": "2021-07-27T20:26:21.046454Z",
     "start_time": "2021-07-27T20:26:21.033335Z"
    }
   },
   "outputs": [
    {
     "data": {
      "text/html": [
       "<div>\n",
       "<style scoped>\n",
       "    .dataframe tbody tr th:only-of-type {\n",
       "        vertical-align: middle;\n",
       "    }\n",
       "\n",
       "    .dataframe tbody tr th {\n",
       "        vertical-align: top;\n",
       "    }\n",
       "\n",
       "    .dataframe thead th {\n",
       "        text-align: right;\n",
       "    }\n",
       "</style>\n",
       "<table border=\"1\" class=\"dataframe\">\n",
       "  <thead>\n",
       "    <tr style=\"text-align: right;\">\n",
       "      <th></th>\n",
       "      <th>A0251-GTCAACTCTTTAGCG</th>\n",
       "      <th>A0252-TGATGGCCTATTGGG</th>\n",
       "      <th>A0253-TTCCGCCTCTCTTTG</th>\n",
       "      <th>A0254-AGTAAGTTCAGCGTA</th>\n",
       "      <th>A0255-AAGTATCGTTTCGCA</th>\n",
       "      <th>A0256-GGTTGCCAGATGTCA</th>\n",
       "      <th>A0257-TGTCTTTCCTGCCAG</th>\n",
       "    </tr>\n",
       "  </thead>\n",
       "  <tbody>\n",
       "    <tr>\n",
       "      <th>122436428123060</th>\n",
       "      <td>0</td>\n",
       "      <td>1</td>\n",
       "      <td>34</td>\n",
       "      <td>1</td>\n",
       "      <td>0</td>\n",
       "      <td>0</td>\n",
       "      <td>0</td>\n",
       "    </tr>\n",
       "    <tr>\n",
       "      <th>226212233211229</th>\n",
       "      <td>0</td>\n",
       "      <td>0</td>\n",
       "      <td>0</td>\n",
       "      <td>0</td>\n",
       "      <td>35</td>\n",
       "      <td>0</td>\n",
       "      <td>0</td>\n",
       "    </tr>\n",
       "    <tr>\n",
       "      <th>204908283221805</th>\n",
       "      <td>17</td>\n",
       "      <td>0</td>\n",
       "      <td>1</td>\n",
       "      <td>3</td>\n",
       "      <td>0</td>\n",
       "      <td>0</td>\n",
       "      <td>0</td>\n",
       "    </tr>\n",
       "    <tr>\n",
       "      <th>231282308437941</th>\n",
       "      <td>14</td>\n",
       "      <td>0</td>\n",
       "      <td>0</td>\n",
       "      <td>2</td>\n",
       "      <td>0</td>\n",
       "      <td>1</td>\n",
       "      <td>0</td>\n",
       "    </tr>\n",
       "    <tr>\n",
       "      <th>126682835925812</th>\n",
       "      <td>0</td>\n",
       "      <td>0</td>\n",
       "      <td>0</td>\n",
       "      <td>0</td>\n",
       "      <td>11</td>\n",
       "      <td>0</td>\n",
       "      <td>0</td>\n",
       "    </tr>\n",
       "    <tr>\n",
       "      <th>122490786564902</th>\n",
       "      <td>0</td>\n",
       "      <td>0</td>\n",
       "      <td>0</td>\n",
       "      <td>0</td>\n",
       "      <td>0</td>\n",
       "      <td>1</td>\n",
       "      <td>0</td>\n",
       "    </tr>\n",
       "    <tr>\n",
       "      <th>199807070756251</th>\n",
       "      <td>0</td>\n",
       "      <td>0</td>\n",
       "      <td>0</td>\n",
       "      <td>1</td>\n",
       "      <td>0</td>\n",
       "      <td>0</td>\n",
       "      <td>0</td>\n",
       "    </tr>\n",
       "    <tr>\n",
       "      <th>235214378491291</th>\n",
       "      <td>0</td>\n",
       "      <td>0</td>\n",
       "      <td>0</td>\n",
       "      <td>0</td>\n",
       "      <td>0</td>\n",
       "      <td>0</td>\n",
       "      <td>0</td>\n",
       "    </tr>\n",
       "    <tr>\n",
       "      <th>125238492219116</th>\n",
       "      <td>0</td>\n",
       "      <td>0</td>\n",
       "      <td>0</td>\n",
       "      <td>0</td>\n",
       "      <td>0</td>\n",
       "      <td>0</td>\n",
       "      <td>0</td>\n",
       "    </tr>\n",
       "    <tr>\n",
       "      <th>125238491855662</th>\n",
       "      <td>0</td>\n",
       "      <td>0</td>\n",
       "      <td>0</td>\n",
       "      <td>0</td>\n",
       "      <td>0</td>\n",
       "      <td>0</td>\n",
       "      <td>0</td>\n",
       "    </tr>\n",
       "    <tr>\n",
       "      <th>239406522223851</th>\n",
       "      <td>0</td>\n",
       "      <td>0</td>\n",
       "      <td>0</td>\n",
       "      <td>0</td>\n",
       "      <td>0</td>\n",
       "      <td>0</td>\n",
       "      <td>0</td>\n",
       "    </tr>\n",
       "    <tr>\n",
       "      <th>230677806501099</th>\n",
       "      <td>0</td>\n",
       "      <td>0</td>\n",
       "      <td>0</td>\n",
       "      <td>0</td>\n",
       "      <td>0</td>\n",
       "      <td>0</td>\n",
       "      <td>0</td>\n",
       "    </tr>\n",
       "    <tr>\n",
       "      <th>125238491630507</th>\n",
       "      <td>0</td>\n",
       "      <td>0</td>\n",
       "      <td>0</td>\n",
       "      <td>0</td>\n",
       "      <td>0</td>\n",
       "      <td>0</td>\n",
       "      <td>0</td>\n",
       "    </tr>\n",
       "    <tr>\n",
       "      <th>134513488743659</th>\n",
       "      <td>0</td>\n",
       "      <td>0</td>\n",
       "      <td>0</td>\n",
       "      <td>0</td>\n",
       "      <td>0</td>\n",
       "      <td>0</td>\n",
       "      <td>0</td>\n",
       "    </tr>\n",
       "    <tr>\n",
       "      <th>239460343532779</th>\n",
       "      <td>0</td>\n",
       "      <td>0</td>\n",
       "      <td>0</td>\n",
       "      <td>0</td>\n",
       "      <td>0</td>\n",
       "      <td>0</td>\n",
       "      <td>0</td>\n",
       "    </tr>\n",
       "    <tr>\n",
       "      <th>125238491662763</th>\n",
       "      <td>0</td>\n",
       "      <td>0</td>\n",
       "      <td>0</td>\n",
       "      <td>0</td>\n",
       "      <td>0</td>\n",
       "      <td>0</td>\n",
       "      <td>0</td>\n",
       "    </tr>\n",
       "  </tbody>\n",
       "</table>\n",
       "</div>"
      ],
      "text/plain": [
       "                 A0251-GTCAACTCTTTAGCG  A0252-TGATGGCCTATTGGG  \\\n",
       "122436428123060                      0                      1   \n",
       "226212233211229                      0                      0   \n",
       "204908283221805                     17                      0   \n",
       "231282308437941                     14                      0   \n",
       "126682835925812                      0                      0   \n",
       "122490786564902                      0                      0   \n",
       "199807070756251                      0                      0   \n",
       "235214378491291                      0                      0   \n",
       "125238492219116                      0                      0   \n",
       "125238491855662                      0                      0   \n",
       "239406522223851                      0                      0   \n",
       "230677806501099                      0                      0   \n",
       "125238491630507                      0                      0   \n",
       "134513488743659                      0                      0   \n",
       "239460343532779                      0                      0   \n",
       "125238491662763                      0                      0   \n",
       "\n",
       "                 A0253-TTCCGCCTCTCTTTG  A0254-AGTAAGTTCAGCGTA  \\\n",
       "122436428123060                     34                      1   \n",
       "226212233211229                      0                      0   \n",
       "204908283221805                      1                      3   \n",
       "231282308437941                      0                      2   \n",
       "126682835925812                      0                      0   \n",
       "122490786564902                      0                      0   \n",
       "199807070756251                      0                      1   \n",
       "235214378491291                      0                      0   \n",
       "125238492219116                      0                      0   \n",
       "125238491855662                      0                      0   \n",
       "239406522223851                      0                      0   \n",
       "230677806501099                      0                      0   \n",
       "125238491630507                      0                      0   \n",
       "134513488743659                      0                      0   \n",
       "239460343532779                      0                      0   \n",
       "125238491662763                      0                      0   \n",
       "\n",
       "                 A0255-AAGTATCGTTTCGCA  A0256-GGTTGCCAGATGTCA  \\\n",
       "122436428123060                      0                      0   \n",
       "226212233211229                     35                      0   \n",
       "204908283221805                      0                      0   \n",
       "231282308437941                      0                      1   \n",
       "126682835925812                     11                      0   \n",
       "122490786564902                      0                      1   \n",
       "199807070756251                      0                      0   \n",
       "235214378491291                      0                      0   \n",
       "125238492219116                      0                      0   \n",
       "125238491855662                      0                      0   \n",
       "239406522223851                      0                      0   \n",
       "230677806501099                      0                      0   \n",
       "125238491630507                      0                      0   \n",
       "134513488743659                      0                      0   \n",
       "239460343532779                      0                      0   \n",
       "125238491662763                      0                      0   \n",
       "\n",
       "                 A0257-TGTCTTTCCTGCCAG  \n",
       "122436428123060                      0  \n",
       "226212233211229                      0  \n",
       "204908283221805                      0  \n",
       "231282308437941                      0  \n",
       "126682835925812                      0  \n",
       "122490786564902                      0  \n",
       "199807070756251                      0  \n",
       "235214378491291                      0  \n",
       "125238492219116                      0  \n",
       "125238491855662                      0  \n",
       "239406522223851                      0  \n",
       "230677806501099                      0  \n",
       "125238491630507                      0  \n",
       "134513488743659                      0  \n",
       "239460343532779                      0  \n",
       "125238491662763                      0  "
      ]
     },
     "execution_count": 31,
     "metadata": {},
     "output_type": "execute_result"
    }
   ],
   "source": [
    "adata_sorted[inflection_pt:].to_df()"
   ]
  },
  {
   "cell_type": "markdown",
   "metadata": {},
   "source": [
    "### Mark as Negative"
   ]
  },
  {
   "cell_type": "code",
   "execution_count": 32,
   "metadata": {
    "ExecuteTime": {
     "end_time": "2021-07-27T20:26:21.053503Z",
     "start_time": "2021-07-27T20:26:21.048033Z"
    }
   },
   "outputs": [],
   "source": [
    "adata2 = adata_sorted.copy()"
   ]
  },
  {
   "cell_type": "code",
   "execution_count": 33,
   "metadata": {
    "ExecuteTime": {
     "end_time": "2021-07-27T20:26:21.059648Z",
     "start_time": "2021-07-27T20:26:21.055095Z"
    }
   },
   "outputs": [],
   "source": [
    "# duplicate, then later we will override if negatives are found\n",
    "adata2.obs[\"hash_id2\"] = adata2.obs[\"hash_id\"]"
   ]
  },
  {
   "cell_type": "code",
   "execution_count": 34,
   "metadata": {
    "ExecuteTime": {
     "end_time": "2021-07-27T20:26:21.077760Z",
     "start_time": "2021-07-27T20:26:21.061578Z"
    }
   },
   "outputs": [
    {
     "data": {
      "text/html": [
       "<div>\n",
       "<style scoped>\n",
       "    .dataframe tbody tr th:only-of-type {\n",
       "        vertical-align: middle;\n",
       "    }\n",
       "\n",
       "    .dataframe tbody tr th {\n",
       "        vertical-align: top;\n",
       "    }\n",
       "\n",
       "    .dataframe thead th {\n",
       "        text-align: right;\n",
       "    }\n",
       "</style>\n",
       "<table border=\"1\" class=\"dataframe\">\n",
       "  <thead>\n",
       "    <tr style=\"text-align: right;\">\n",
       "      <th></th>\n",
       "      <th>unmapped</th>\n",
       "      <th>barcode_sequence</th>\n",
       "      <th>hash_id</th>\n",
       "      <th>total_umis</th>\n",
       "      <th>hash_id2</th>\n",
       "    </tr>\n",
       "  </thead>\n",
       "  <tbody>\n",
       "    <tr>\n",
       "      <th>122436428123060</th>\n",
       "      <td>0</td>\n",
       "      <td>TTCGGTCTCTAAGCCA</td>\n",
       "      <td>A0253</td>\n",
       "      <td>36</td>\n",
       "      <td>A0253</td>\n",
       "    </tr>\n",
       "    <tr>\n",
       "      <th>226212233211229</th>\n",
       "      <td>0</td>\n",
       "      <td>CTTTCAATCTTCCGTG</td>\n",
       "      <td>A0255</td>\n",
       "      <td>35</td>\n",
       "      <td>A0255</td>\n",
       "    </tr>\n",
       "    <tr>\n",
       "      <th>204908283221805</th>\n",
       "      <td>3</td>\n",
       "      <td>GCAGCTGGTTGGTAGG</td>\n",
       "      <td>A0251</td>\n",
       "      <td>21</td>\n",
       "      <td>A0251</td>\n",
       "    </tr>\n",
       "    <tr>\n",
       "      <th>231282308437941</th>\n",
       "      <td>3</td>\n",
       "      <td>CAAGACTTCGAGTCCG</td>\n",
       "      <td>A0251</td>\n",
       "      <td>17</td>\n",
       "      <td>A0251</td>\n",
       "    </tr>\n",
       "    <tr>\n",
       "      <th>126682835925812</th>\n",
       "      <td>0</td>\n",
       "      <td>TACTTCAGTTCTGACA</td>\n",
       "      <td>A0255</td>\n",
       "      <td>11</td>\n",
       "      <td>A0255</td>\n",
       "    </tr>\n",
       "    <tr>\n",
       "      <th>122490786564902</th>\n",
       "      <td>0</td>\n",
       "      <td>TTCCTCTTCAAAGAAC</td>\n",
       "      <td>A0256</td>\n",
       "      <td>1</td>\n",
       "      <td>A0256</td>\n",
       "    </tr>\n",
       "    <tr>\n",
       "      <th>199807070756251</th>\n",
       "      <td>2</td>\n",
       "      <td>GGTTAACGTCTGCCTT</td>\n",
       "      <td>A0254</td>\n",
       "      <td>1</td>\n",
       "      <td>A0254</td>\n",
       "    </tr>\n",
       "    <tr>\n",
       "      <th>235214378491291</th>\n",
       "      <td>0</td>\n",
       "      <td>CGTCCATGTCTGCCTT</td>\n",
       "      <td>Doublet</td>\n",
       "      <td>0</td>\n",
       "      <td>Doublet</td>\n",
       "    </tr>\n",
       "    <tr>\n",
       "      <th>125238492219116</th>\n",
       "      <td>0</td>\n",
       "      <td>TATCTGTTCGCATTGA</td>\n",
       "      <td>Doublet</td>\n",
       "      <td>0</td>\n",
       "      <td>Doublet</td>\n",
       "    </tr>\n",
       "    <tr>\n",
       "      <th>125238491855662</th>\n",
       "      <td>0</td>\n",
       "      <td>TATCTGTTCATTGAGC</td>\n",
       "      <td>Doublet</td>\n",
       "      <td>0</td>\n",
       "      <td>Doublet</td>\n",
       "    </tr>\n",
       "    <tr>\n",
       "      <th>239406522223851</th>\n",
       "      <td>3</td>\n",
       "      <td>CCTTCAGAGGGACTGT</td>\n",
       "      <td>Doublet</td>\n",
       "      <td>0</td>\n",
       "      <td>Doublet</td>\n",
       "    </tr>\n",
       "    <tr>\n",
       "      <th>230677806501099</th>\n",
       "      <td>1</td>\n",
       "      <td>CATACTTAGGGACTGT</td>\n",
       "      <td>Doublet</td>\n",
       "      <td>0</td>\n",
       "      <td>Doublet</td>\n",
       "    </tr>\n",
       "    <tr>\n",
       "      <th>125238491630507</th>\n",
       "      <td>0</td>\n",
       "      <td>TATCTGTTCTAAGCGT</td>\n",
       "      <td>Doublet</td>\n",
       "      <td>0</td>\n",
       "      <td>Doublet</td>\n",
       "    </tr>\n",
       "    <tr>\n",
       "      <th>134513488743659</th>\n",
       "      <td>1</td>\n",
       "      <td>TCAGTTTAGGGACTGT</td>\n",
       "      <td>Doublet</td>\n",
       "      <td>0</td>\n",
       "      <td>Doublet</td>\n",
       "    </tr>\n",
       "    <tr>\n",
       "      <th>239460343532779</th>\n",
       "      <td>1</td>\n",
       "      <td>CCTAACCAGGGACTGT</td>\n",
       "      <td>Doublet</td>\n",
       "      <td>0</td>\n",
       "      <td>Doublet</td>\n",
       "    </tr>\n",
       "    <tr>\n",
       "      <th>125238491662763</th>\n",
       "      <td>0</td>\n",
       "      <td>TATCTGTTCTGAACGT</td>\n",
       "      <td>Doublet</td>\n",
       "      <td>0</td>\n",
       "      <td>Doublet</td>\n",
       "    </tr>\n",
       "  </tbody>\n",
       "</table>\n",
       "</div>"
      ],
      "text/plain": [
       "                 unmapped  barcode_sequence  hash_id  total_umis hash_id2\n",
       "122436428123060         0  TTCGGTCTCTAAGCCA    A0253          36    A0253\n",
       "226212233211229         0  CTTTCAATCTTCCGTG    A0255          35    A0255\n",
       "204908283221805         3  GCAGCTGGTTGGTAGG    A0251          21    A0251\n",
       "231282308437941         3  CAAGACTTCGAGTCCG    A0251          17    A0251\n",
       "126682835925812         0  TACTTCAGTTCTGACA    A0255          11    A0255\n",
       "122490786564902         0  TTCCTCTTCAAAGAAC    A0256           1    A0256\n",
       "199807070756251         2  GGTTAACGTCTGCCTT    A0254           1    A0254\n",
       "235214378491291         0  CGTCCATGTCTGCCTT  Doublet           0  Doublet\n",
       "125238492219116         0  TATCTGTTCGCATTGA  Doublet           0  Doublet\n",
       "125238491855662         0  TATCTGTTCATTGAGC  Doublet           0  Doublet\n",
       "239406522223851         3  CCTTCAGAGGGACTGT  Doublet           0  Doublet\n",
       "230677806501099         1  CATACTTAGGGACTGT  Doublet           0  Doublet\n",
       "125238491630507         0  TATCTGTTCTAAGCGT  Doublet           0  Doublet\n",
       "134513488743659         1  TCAGTTTAGGGACTGT  Doublet           0  Doublet\n",
       "239460343532779         1  CCTAACCAGGGACTGT  Doublet           0  Doublet\n",
       "125238491662763         0  TATCTGTTCTGAACGT  Doublet           0  Doublet"
      ]
     },
     "execution_count": 34,
     "metadata": {},
     "output_type": "execute_result"
    }
   ],
   "source": [
    "adata2.obs.loc[adata2[inflection_pt:].obs_names]"
   ]
  },
  {
   "cell_type": "code",
   "execution_count": 35,
   "metadata": {
    "ExecuteTime": {
     "end_time": "2021-07-27T20:26:21.084699Z",
     "start_time": "2021-07-27T20:26:21.079438Z"
    }
   },
   "outputs": [],
   "source": [
    "# add a new category \"Negative\"\n",
    "adata2.obs[\"hash_id\"] = adata2.obs[\"hash_id\"].cat.add_categories(\"Negative\")\n",
    "adata2.obs[\"hash_id2\"] = adata2.obs[\"hash_id2\"].cat.add_categories(\"Negative\")"
   ]
  },
  {
   "cell_type": "code",
   "execution_count": 36,
   "metadata": {
    "ExecuteTime": {
     "end_time": "2021-07-27T20:26:21.093947Z",
     "start_time": "2021-07-27T20:26:21.086668Z"
    }
   },
   "outputs": [],
   "source": [
    "# anything after the inflection point found, we will mark them as Negative\n",
    "adata2.obs.loc[adata2[inflection_pt:].obs_names, \"hash_id2\"] = \"Negative\""
   ]
  },
  {
   "cell_type": "code",
   "execution_count": 37,
   "metadata": {
    "ExecuteTime": {
     "end_time": "2021-07-27T20:26:21.113111Z",
     "start_time": "2021-07-27T20:26:21.095797Z"
    }
   },
   "outputs": [
    {
     "data": {
      "text/html": [
       "<div>\n",
       "<style scoped>\n",
       "    .dataframe tbody tr th:only-of-type {\n",
       "        vertical-align: middle;\n",
       "    }\n",
       "\n",
       "    .dataframe tbody tr th {\n",
       "        vertical-align: top;\n",
       "    }\n",
       "\n",
       "    .dataframe thead th {\n",
       "        text-align: right;\n",
       "    }\n",
       "</style>\n",
       "<table border=\"1\" class=\"dataframe\">\n",
       "  <thead>\n",
       "    <tr style=\"text-align: right;\">\n",
       "      <th></th>\n",
       "      <th>unmapped</th>\n",
       "      <th>barcode_sequence</th>\n",
       "      <th>hash_id</th>\n",
       "      <th>total_umis</th>\n",
       "      <th>hash_id2</th>\n",
       "    </tr>\n",
       "  </thead>\n",
       "  <tbody>\n",
       "    <tr>\n",
       "      <th>126268612721964</th>\n",
       "      <td>663</td>\n",
       "      <td>TAGGTACTCTGTCAGA</td>\n",
       "      <td>Doublet</td>\n",
       "      <td>18099</td>\n",
       "      <td>Doublet</td>\n",
       "    </tr>\n",
       "    <tr>\n",
       "      <th>231754935421741</th>\n",
       "      <td>656</td>\n",
       "      <td>CAGATCACACTAGAGG</td>\n",
       "      <td>Doublet</td>\n",
       "      <td>17741</td>\n",
       "      <td>Doublet</td>\n",
       "    </tr>\n",
       "    <tr>\n",
       "      <th>120703436111133</th>\n",
       "      <td>595</td>\n",
       "      <td>TTTATGCGTTGTCATG</td>\n",
       "      <td>Doublet</td>\n",
       "      <td>16239</td>\n",
       "      <td>Doublet</td>\n",
       "    </tr>\n",
       "    <tr>\n",
       "      <th>195554937355164</th>\n",
       "      <td>524</td>\n",
       "      <td>GATGGAGCAACTGCTA</td>\n",
       "      <td>Doublet</td>\n",
       "      <td>14573</td>\n",
       "      <td>Doublet</td>\n",
       "    </tr>\n",
       "    <tr>\n",
       "      <th>134585729570651</th>\n",
       "      <td>385</td>\n",
       "      <td>TCACTCGCACAGTGTT</td>\n",
       "      <td>A0254</td>\n",
       "      <td>10862</td>\n",
       "      <td>A0254</td>\n",
       "    </tr>\n",
       "    <tr>\n",
       "      <th>...</th>\n",
       "      <td>...</td>\n",
       "      <td>...</td>\n",
       "      <td>...</td>\n",
       "      <td>...</td>\n",
       "      <td>...</td>\n",
       "    </tr>\n",
       "    <tr>\n",
       "      <th>230677806501099</th>\n",
       "      <td>1</td>\n",
       "      <td>CATACTTAGGGACTGT</td>\n",
       "      <td>Doublet</td>\n",
       "      <td>0</td>\n",
       "      <td>Negative</td>\n",
       "    </tr>\n",
       "    <tr>\n",
       "      <th>125238491630507</th>\n",
       "      <td>0</td>\n",
       "      <td>TATCTGTTCTAAGCGT</td>\n",
       "      <td>Doublet</td>\n",
       "      <td>0</td>\n",
       "      <td>Negative</td>\n",
       "    </tr>\n",
       "    <tr>\n",
       "      <th>134513488743659</th>\n",
       "      <td>1</td>\n",
       "      <td>TCAGTTTAGGGACTGT</td>\n",
       "      <td>Doublet</td>\n",
       "      <td>0</td>\n",
       "      <td>Negative</td>\n",
       "    </tr>\n",
       "    <tr>\n",
       "      <th>239460343532779</th>\n",
       "      <td>1</td>\n",
       "      <td>CCTAACCAGGGACTGT</td>\n",
       "      <td>Doublet</td>\n",
       "      <td>0</td>\n",
       "      <td>Negative</td>\n",
       "    </tr>\n",
       "    <tr>\n",
       "      <th>125238491662763</th>\n",
       "      <td>0</td>\n",
       "      <td>TATCTGTTCTGAACGT</td>\n",
       "      <td>Doublet</td>\n",
       "      <td>0</td>\n",
       "      <td>Negative</td>\n",
       "    </tr>\n",
       "  </tbody>\n",
       "</table>\n",
       "<p>10957 rows × 5 columns</p>\n",
       "</div>"
      ],
      "text/plain": [
       "                 unmapped  barcode_sequence  hash_id  total_umis  hash_id2\n",
       "126268612721964       663  TAGGTACTCTGTCAGA  Doublet       18099   Doublet\n",
       "231754935421741       656  CAGATCACACTAGAGG  Doublet       17741   Doublet\n",
       "120703436111133       595  TTTATGCGTTGTCATG  Doublet       16239   Doublet\n",
       "195554937355164       524  GATGGAGCAACTGCTA  Doublet       14573   Doublet\n",
       "134585729570651       385  TCACTCGCACAGTGTT    A0254       10862     A0254\n",
       "...                   ...               ...      ...         ...       ...\n",
       "230677806501099         1  CATACTTAGGGACTGT  Doublet           0  Negative\n",
       "125238491630507         0  TATCTGTTCTAAGCGT  Doublet           0  Negative\n",
       "134513488743659         1  TCAGTTTAGGGACTGT  Doublet           0  Negative\n",
       "239460343532779         1  CCTAACCAGGGACTGT  Doublet           0  Negative\n",
       "125238491662763         0  TATCTGTTCTGAACGT  Doublet           0  Negative\n",
       "\n",
       "[10957 rows x 5 columns]"
      ]
     },
     "execution_count": 37,
     "metadata": {},
     "output_type": "execute_result"
    }
   ],
   "source": [
    "adata2.obs"
   ]
  },
  {
   "cell_type": "markdown",
   "metadata": {},
   "source": [
    "### Final Results"
   ]
  },
  {
   "cell_type": "markdown",
   "metadata": {},
   "source": [
    "#### Before"
   ]
  },
  {
   "cell_type": "code",
   "execution_count": 38,
   "metadata": {
    "ExecuteTime": {
     "end_time": "2021-07-27T20:26:21.120172Z",
     "start_time": "2021-07-27T20:26:21.114604Z"
    }
   },
   "outputs": [
    {
     "data": {
      "text/plain": [
       "hash_id\n",
       "A0251       1638\n",
       "A0252       1135\n",
       "A0253       2742\n",
       "A0254       1007\n",
       "A0255       1244\n",
       "A0256       1295\n",
       "A0257        874\n",
       "Doublet     1022\n",
       "Negative       0\n",
       "dtype: int64"
      ]
     },
     "execution_count": 38,
     "metadata": {},
     "output_type": "execute_result"
    }
   ],
   "source": [
    "# before\n",
    "adata2.obs.groupby(\"hash_id\").size()"
   ]
  },
  {
   "cell_type": "markdown",
   "metadata": {},
   "source": [
    "#### After"
   ]
  },
  {
   "cell_type": "code",
   "execution_count": 39,
   "metadata": {
    "ExecuteTime": {
     "end_time": "2021-07-27T20:26:21.128694Z",
     "start_time": "2021-07-27T20:26:21.121861Z"
    }
   },
   "outputs": [
    {
     "data": {
      "text/plain": [
       "hash_id2\n",
       "A0251       1636\n",
       "A0252       1135\n",
       "A0253       2741\n",
       "A0254       1006\n",
       "A0255       1242\n",
       "A0256       1294\n",
       "A0257        874\n",
       "Doublet     1013\n",
       "Negative      16\n",
       "dtype: int64"
      ]
     },
     "execution_count": 39,
     "metadata": {},
     "output_type": "execute_result"
    }
   ],
   "source": [
    "# after\n",
    "adata2.obs.groupby(\"hash_id2\").size()"
   ]
  },
  {
   "cell_type": "markdown",
   "metadata": {},
   "source": [
    "#### Differences"
   ]
  },
  {
   "cell_type": "code",
   "execution_count": 40,
   "metadata": {
    "ExecuteTime": {
     "end_time": "2021-07-27T20:26:21.145708Z",
     "start_time": "2021-07-27T20:26:21.130460Z"
    }
   },
   "outputs": [
    {
     "data": {
      "text/html": [
       "<div>\n",
       "<style scoped>\n",
       "    .dataframe tbody tr th:only-of-type {\n",
       "        vertical-align: middle;\n",
       "    }\n",
       "\n",
       "    .dataframe tbody tr th {\n",
       "        vertical-align: top;\n",
       "    }\n",
       "\n",
       "    .dataframe thead th {\n",
       "        text-align: right;\n",
       "    }\n",
       "</style>\n",
       "<table border=\"1\" class=\"dataframe\">\n",
       "  <thead>\n",
       "    <tr style=\"text-align: right;\">\n",
       "      <th></th>\n",
       "      <th>unmapped</th>\n",
       "      <th>barcode_sequence</th>\n",
       "      <th>hash_id</th>\n",
       "      <th>total_umis</th>\n",
       "      <th>hash_id2</th>\n",
       "    </tr>\n",
       "  </thead>\n",
       "  <tbody>\n",
       "    <tr>\n",
       "      <th>122436428123060</th>\n",
       "      <td>0</td>\n",
       "      <td>TTCGGTCTCTAAGCCA</td>\n",
       "      <td>A0253</td>\n",
       "      <td>36</td>\n",
       "      <td>Negative</td>\n",
       "    </tr>\n",
       "    <tr>\n",
       "      <th>226212233211229</th>\n",
       "      <td>0</td>\n",
       "      <td>CTTTCAATCTTCCGTG</td>\n",
       "      <td>A0255</td>\n",
       "      <td>35</td>\n",
       "      <td>Negative</td>\n",
       "    </tr>\n",
       "    <tr>\n",
       "      <th>204908283221805</th>\n",
       "      <td>3</td>\n",
       "      <td>GCAGCTGGTTGGTAGG</td>\n",
       "      <td>A0251</td>\n",
       "      <td>21</td>\n",
       "      <td>Negative</td>\n",
       "    </tr>\n",
       "    <tr>\n",
       "      <th>231282308437941</th>\n",
       "      <td>3</td>\n",
       "      <td>CAAGACTTCGAGTCCG</td>\n",
       "      <td>A0251</td>\n",
       "      <td>17</td>\n",
       "      <td>Negative</td>\n",
       "    </tr>\n",
       "    <tr>\n",
       "      <th>126682835925812</th>\n",
       "      <td>0</td>\n",
       "      <td>TACTTCAGTTCTGACA</td>\n",
       "      <td>A0255</td>\n",
       "      <td>11</td>\n",
       "      <td>Negative</td>\n",
       "    </tr>\n",
       "    <tr>\n",
       "      <th>122490786564902</th>\n",
       "      <td>0</td>\n",
       "      <td>TTCCTCTTCAAAGAAC</td>\n",
       "      <td>A0256</td>\n",
       "      <td>1</td>\n",
       "      <td>Negative</td>\n",
       "    </tr>\n",
       "    <tr>\n",
       "      <th>199807070756251</th>\n",
       "      <td>2</td>\n",
       "      <td>GGTTAACGTCTGCCTT</td>\n",
       "      <td>A0254</td>\n",
       "      <td>1</td>\n",
       "      <td>Negative</td>\n",
       "    </tr>\n",
       "    <tr>\n",
       "      <th>235214378491291</th>\n",
       "      <td>0</td>\n",
       "      <td>CGTCCATGTCTGCCTT</td>\n",
       "      <td>Doublet</td>\n",
       "      <td>0</td>\n",
       "      <td>Negative</td>\n",
       "    </tr>\n",
       "    <tr>\n",
       "      <th>125238492219116</th>\n",
       "      <td>0</td>\n",
       "      <td>TATCTGTTCGCATTGA</td>\n",
       "      <td>Doublet</td>\n",
       "      <td>0</td>\n",
       "      <td>Negative</td>\n",
       "    </tr>\n",
       "    <tr>\n",
       "      <th>125238491855662</th>\n",
       "      <td>0</td>\n",
       "      <td>TATCTGTTCATTGAGC</td>\n",
       "      <td>Doublet</td>\n",
       "      <td>0</td>\n",
       "      <td>Negative</td>\n",
       "    </tr>\n",
       "    <tr>\n",
       "      <th>239406522223851</th>\n",
       "      <td>3</td>\n",
       "      <td>CCTTCAGAGGGACTGT</td>\n",
       "      <td>Doublet</td>\n",
       "      <td>0</td>\n",
       "      <td>Negative</td>\n",
       "    </tr>\n",
       "    <tr>\n",
       "      <th>230677806501099</th>\n",
       "      <td>1</td>\n",
       "      <td>CATACTTAGGGACTGT</td>\n",
       "      <td>Doublet</td>\n",
       "      <td>0</td>\n",
       "      <td>Negative</td>\n",
       "    </tr>\n",
       "    <tr>\n",
       "      <th>125238491630507</th>\n",
       "      <td>0</td>\n",
       "      <td>TATCTGTTCTAAGCGT</td>\n",
       "      <td>Doublet</td>\n",
       "      <td>0</td>\n",
       "      <td>Negative</td>\n",
       "    </tr>\n",
       "    <tr>\n",
       "      <th>134513488743659</th>\n",
       "      <td>1</td>\n",
       "      <td>TCAGTTTAGGGACTGT</td>\n",
       "      <td>Doublet</td>\n",
       "      <td>0</td>\n",
       "      <td>Negative</td>\n",
       "    </tr>\n",
       "    <tr>\n",
       "      <th>239460343532779</th>\n",
       "      <td>1</td>\n",
       "      <td>CCTAACCAGGGACTGT</td>\n",
       "      <td>Doublet</td>\n",
       "      <td>0</td>\n",
       "      <td>Negative</td>\n",
       "    </tr>\n",
       "    <tr>\n",
       "      <th>125238491662763</th>\n",
       "      <td>0</td>\n",
       "      <td>TATCTGTTCTGAACGT</td>\n",
       "      <td>Doublet</td>\n",
       "      <td>0</td>\n",
       "      <td>Negative</td>\n",
       "    </tr>\n",
       "  </tbody>\n",
       "</table>\n",
       "</div>"
      ],
      "text/plain": [
       "                 unmapped  barcode_sequence  hash_id  total_umis  hash_id2\n",
       "122436428123060         0  TTCGGTCTCTAAGCCA    A0253          36  Negative\n",
       "226212233211229         0  CTTTCAATCTTCCGTG    A0255          35  Negative\n",
       "204908283221805         3  GCAGCTGGTTGGTAGG    A0251          21  Negative\n",
       "231282308437941         3  CAAGACTTCGAGTCCG    A0251          17  Negative\n",
       "126682835925812         0  TACTTCAGTTCTGACA    A0255          11  Negative\n",
       "122490786564902         0  TTCCTCTTCAAAGAAC    A0256           1  Negative\n",
       "199807070756251         2  GGTTAACGTCTGCCTT    A0254           1  Negative\n",
       "235214378491291         0  CGTCCATGTCTGCCTT  Doublet           0  Negative\n",
       "125238492219116         0  TATCTGTTCGCATTGA  Doublet           0  Negative\n",
       "125238491855662         0  TATCTGTTCATTGAGC  Doublet           0  Negative\n",
       "239406522223851         3  CCTTCAGAGGGACTGT  Doublet           0  Negative\n",
       "230677806501099         1  CATACTTAGGGACTGT  Doublet           0  Negative\n",
       "125238491630507         0  TATCTGTTCTAAGCGT  Doublet           0  Negative\n",
       "134513488743659         1  TCAGTTTAGGGACTGT  Doublet           0  Negative\n",
       "239460343532779         1  CCTAACCAGGGACTGT  Doublet           0  Negative\n",
       "125238491662763         0  TATCTGTTCTGAACGT  Doublet           0  Negative"
      ]
     },
     "execution_count": 40,
     "metadata": {},
     "output_type": "execute_result"
    }
   ],
   "source": [
    "adata2_diff = adata2[ adata2.obs[\"hash_id\"] != adata2.obs[\"hash_id2\"] ]\n",
    "adata2_diff.obs"
   ]
  },
  {
   "cell_type": "code",
   "execution_count": 41,
   "metadata": {
    "ExecuteTime": {
     "end_time": "2021-07-27T20:26:21.155494Z",
     "start_time": "2021-07-27T20:26:21.147326Z"
    }
   },
   "outputs": [
    {
     "data": {
      "text/plain": [
       "hash_id  hash_id2\n",
       "A0251    Negative    2\n",
       "A0253    Negative    1\n",
       "A0254    Negative    1\n",
       "A0255    Negative    2\n",
       "A0256    Negative    1\n",
       "Doublet  Negative    9\n",
       "dtype: int64"
      ]
     },
     "execution_count": 41,
     "metadata": {},
     "output_type": "execute_result"
    }
   ],
   "source": [
    "adata2_diff.obs.groupby([\"hash_id\", \"hash_id2\"]).size()"
   ]
  },
  {
   "cell_type": "markdown",
   "metadata": {},
   "source": [
    "## UMAP"
   ]
  },
  {
   "cell_type": "code",
   "execution_count": 42,
   "metadata": {
    "ExecuteTime": {
     "end_time": "2021-07-27T20:26:21.162957Z",
     "start_time": "2021-07-27T20:26:21.157583Z"
    }
   },
   "outputs": [],
   "source": [
    "def clr_normalize_each_cell(adata, inplace=True):\n",
    "    \"\"\"Normalize count vector for each cell, i.e. for each row of .X\"\"\"\n",
    "\n",
    "    import numpy as np\n",
    "    import scipy\n",
    "\n",
    "    def seurat_clr(x):\n",
    "        # TODO: support sparseness\n",
    "        s = np.sum(np.log1p(x[x > 0]))\n",
    "        exp = np.exp(s / len(x))\n",
    "        return np.log1p(x / exp)\n",
    "\n",
    "    if not inplace:\n",
    "        adata = adata.copy()\n",
    "\n",
    "    # apply to dense or sparse matrix, along axis. returns dense matrix\n",
    "    adata.X = np.apply_along_axis(\n",
    "        seurat_clr, 1, (adata.X.A if scipy.sparse.issparse(adata.X) else adata.X)\n",
    "    )\n",
    "    return adata"
   ]
  },
  {
   "cell_type": "code",
   "execution_count": 43,
   "metadata": {
    "ExecuteTime": {
     "end_time": "2021-07-27T20:26:21.167566Z",
     "start_time": "2021-07-27T20:26:21.164521Z"
    }
   },
   "outputs": [],
   "source": [
    "adata2.raw = adata2"
   ]
  },
  {
   "cell_type": "code",
   "execution_count": 44,
   "metadata": {
    "ExecuteTime": {
     "end_time": "2021-07-27T20:26:21.376792Z",
     "start_time": "2021-07-27T20:26:21.169306Z"
    }
   },
   "outputs": [
    {
     "data": {
      "text/plain": [
       "AnnData object with n_obs × n_vars = 10957 × 7\n",
       "    obs: 'unmapped', 'barcode_sequence', 'hash_id', 'total_umis', 'hash_id2'\n",
       "    var: 'feature_name'"
      ]
     },
     "execution_count": 44,
     "metadata": {},
     "output_type": "execute_result"
    }
   ],
   "source": [
    "clr_normalize_each_cell(adata2)"
   ]
  },
  {
   "cell_type": "code",
   "execution_count": 45,
   "metadata": {
    "ExecuteTime": {
     "end_time": "2021-07-27T20:26:21.382575Z",
     "start_time": "2021-07-27T20:26:21.378362Z"
    }
   },
   "outputs": [],
   "source": [
    "sc.pp.log1p(adata2)"
   ]
  },
  {
   "cell_type": "code",
   "execution_count": 46,
   "metadata": {
    "ExecuteTime": {
     "end_time": "2021-07-27T20:26:32.601837Z",
     "start_time": "2021-07-27T20:26:21.383813Z"
    }
   },
   "outputs": [
    {
     "name": "stdout",
     "output_type": "stream",
     "text": [
      "computing neighbors\n",
      "    using data matrix X directly\n",
      "    finished: added to `.uns['neighbors']`\n",
      "    `.obsp['distances']`, distances for each pair of neighbors\n",
      "    `.obsp['connectivities']`, weighted adjacency matrix (0:00:11)\n"
     ]
    }
   ],
   "source": [
    "sc.pp.neighbors(adata2)"
   ]
  },
  {
   "cell_type": "code",
   "execution_count": 47,
   "metadata": {
    "ExecuteTime": {
     "end_time": "2021-07-27T20:26:33.271781Z",
     "start_time": "2021-07-27T20:26:32.603329Z"
    }
   },
   "outputs": [
    {
     "name": "stdout",
     "output_type": "stream",
     "text": [
      "running Leiden clustering\n",
      "    finished: found 16 clusters and added\n",
      "    'leiden', the cluster labels (adata.obs, categorical) (0:00:00)\n"
     ]
    }
   ],
   "source": [
    "sc.tl.leiden(adata2, resolution=0.05, random_state=42)"
   ]
  },
  {
   "cell_type": "code",
   "execution_count": null,
   "metadata": {
    "ExecuteTime": {
     "start_time": "2021-07-27T20:26:17.259Z"
    }
   },
   "outputs": [
    {
     "name": "stdout",
     "output_type": "stream",
     "text": [
      "computing UMAP\n"
     ]
    }
   ],
   "source": [
    "sc.tl.umap(adata2)"
   ]
  },
  {
   "cell_type": "code",
   "execution_count": null,
   "metadata": {
    "ExecuteTime": {
     "start_time": "2021-07-27T20:26:17.261Z"
    }
   },
   "outputs": [],
   "source": [
    "fig, axs = plt.subplots(ncols=2, figsize=(12,6))\n",
    "\n",
    "sc.pl.umap(\n",
    "    adata2,\n",
    "    color=[\"leiden\"],\n",
    "    ax=axs[0], show=False\n",
    ")\n",
    "\n",
    "sc.pl.umap(\n",
    "    adata2,\n",
    "    color=[\"leiden\"],\n",
    "    legend_loc=\"on data\",\n",
    "    legend_fontsize=15,\n",
    "    legend_fontoutline=5,\n",
    "    ax=axs[1], show=False\n",
    ")\n",
    "\n",
    "plt.tight_layout()\n",
    "plt.show()"
   ]
  },
  {
   "cell_type": "code",
   "execution_count": null,
   "metadata": {
    "ExecuteTime": {
     "start_time": "2021-07-27T20:26:17.263Z"
    }
   },
   "outputs": [],
   "source": [
    "fig, axs = plt.subplots(ncols=2, figsize=(12,6))\n",
    "\n",
    "sc.pl.umap(\n",
    "    adata2,\n",
    "    color=[\"hash_id\"],\n",
    "    ax=axs[0], show=False\n",
    ")\n",
    "\n",
    "sc.pl.umap(\n",
    "    adata2,\n",
    "    color=[\"hash_id\"],\n",
    "    legend_loc=\"on data\",\n",
    "    legend_fontsize=10,\n",
    "    legend_fontoutline=5,\n",
    "    ax=axs[1], show=False\n",
    ")\n",
    "\n",
    "plt.tight_layout()\n",
    "plt.show()"
   ]
  },
  {
   "cell_type": "code",
   "execution_count": null,
   "metadata": {
    "ExecuteTime": {
     "start_time": "2021-07-27T20:26:17.266Z"
    }
   },
   "outputs": [],
   "source": [
    "fig, axs = plt.subplots(ncols=2, figsize=(12,6))\n",
    "\n",
    "sc.pl.umap(\n",
    "    adata2,\n",
    "    color=[\"hash_id2\"],\n",
    "    ax=axs[0], show=False\n",
    ")\n",
    "\n",
    "sc.pl.umap(\n",
    "    adata2,\n",
    "    color=[\"hash_id2\"],\n",
    "    legend_loc=\"on data\",\n",
    "    legend_fontsize=10,\n",
    "    legend_fontoutline=5,\n",
    "    ax=axs[1], show=False\n",
    ")\n",
    "\n",
    "plt.tight_layout()\n",
    "plt.show()"
   ]
  },
  {
   "cell_type": "code",
   "execution_count": null,
   "metadata": {
    "ExecuteTime": {
     "start_time": "2021-07-27T20:26:17.268Z"
    }
   },
   "outputs": [],
   "source": [
    "from matplotlib.colors import ListedColormap\n",
    "\n",
    "my_cmap1 = ListedColormap(sns.color_palette(\"Blues\").as_hex())\n",
    "my_cmap2 = sns.color_palette(\"Paired\").as_hex()\n",
    "my_cmap2[0] = \"lightgray\"\n",
    "my_cmap2 = ListedColormap(my_cmap2)"
   ]
  },
  {
   "cell_type": "code",
   "execution_count": null,
   "metadata": {
    "ExecuteTime": {
     "start_time": "2021-07-27T20:26:17.270Z"
    }
   },
   "outputs": [],
   "source": [
    "sc.pl.umap(\n",
    "    adata2,\n",
    "    color=adata2.var_names,\n",
    "    color_map=my_cmap1,\n",
    "    size=30,\n",
    "    ncols=3,\n",
    ")"
   ]
  },
  {
   "cell_type": "code",
   "execution_count": null,
   "metadata": {
    "ExecuteTime": {
     "start_time": "2021-07-27T20:26:17.274Z"
    }
   },
   "outputs": [],
   "source": [
    "sc.pl.umap(\n",
    "    adata2,\n",
    "    color=adata2.var_names,\n",
    "    color_map=my_cmap2,\n",
    "    size=30,\n",
    "    ncols=3,\n",
    ")"
   ]
  },
  {
   "cell_type": "markdown",
   "metadata": {},
   "source": [
    "## Write to Disk"
   ]
  },
  {
   "cell_type": "code",
   "execution_count": null,
   "metadata": {
    "ExecuteTime": {
     "start_time": "2021-07-27T20:26:17.277Z"
    }
   },
   "outputs": [],
   "source": [
    "adata2"
   ]
  },
  {
   "cell_type": "code",
   "execution_count": null,
   "metadata": {
    "ExecuteTime": {
     "start_time": "2021-07-27T20:26:17.280Z"
    }
   },
   "outputs": [],
   "source": [
    "adata2.write(os.path.join(path_data, f\"{sample_name}.Negative.h5ad\"))"
   ]
  },
  {
   "cell_type": "code",
   "execution_count": null,
   "metadata": {},
   "outputs": [],
   "source": []
  }
 ],
 "metadata": {
  "kernelspec": {
   "display_name": "Python 3",
   "language": "python",
   "name": "python3"
  },
  "language_info": {
   "codemirror_mode": {
    "name": "ipython",
    "version": 3
   },
   "file_extension": ".py",
   "mimetype": "text/x-python",
   "name": "python",
   "nbconvert_exporter": "python",
   "pygments_lexer": "ipython3",
   "version": "3.7.7"
  },
  "toc": {
   "base_numbering": 1,
   "nav_menu": {},
   "number_sections": true,
   "sideBar": true,
   "skip_h1_title": false,
   "title_cell": "Table of Contents",
   "title_sidebar": "Contents",
   "toc_cell": false,
   "toc_position": {
    "height": "calc(100% - 180px)",
    "left": "10px",
    "top": "150px",
    "width": "325.797px"
   },
   "toc_section_display": true,
   "toc_window_display": true
  }
 },
 "nbformat": 4,
 "nbformat_minor": 2
}
